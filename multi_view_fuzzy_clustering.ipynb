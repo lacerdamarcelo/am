{
 "cells": [
  {
   "cell_type": "code",
   "execution_count": null,
   "metadata": {
    "collapsed": false
   },
   "outputs": [],
   "source": [
    "Lendo os dados. Cada conjunto aqui sera uma view que sera utilizada para construir uma matriz de dissimilaridade\n",
    "Euclidiana. No total, serao 3 matrizes de dissimilaridade, todas com a mesma métrica (distância Euclidiana) mas\n",
    "uma para cada view."
   ]
  },
  {
   "cell_type": "code",
   "execution_count": 3,
   "metadata": {
    "collapsed": true
   },
   "outputs": [],
   "source": [
    "import math\n",
    "import numpy as np\n",
    "import pandas as pd\n",
    "\n",
    "dfac = pd.read_csv('dados/mfeat-fac', delim_whitespace=True, header=None)\n",
    "dfou = pd.read_csv('dados/mfeat-fou', delim_whitespace=True, header=None)\n",
    "dkar = pd.read_csv('dados/mfeat-kar', delim_whitespace=True, header=None)"
   ]
  },
  {
   "cell_type": "code",
   "execution_count": null,
   "metadata": {
    "collapsed": true
   },
   "outputs": [],
   "source": [
    "Calculando as matrizes de dissimilaridade para cada view."
   ]
  },
  {
   "cell_type": "code",
   "execution_count": 4,
   "metadata": {
    "collapsed": false
   },
   "outputs": [],
   "source": [
    "from sklearn.metrics.pairwise import euclidean_distances\n",
    "\n",
    "dfac_matrix = euclidean_distances(dfac, dfac)\n",
    "dfou_matrix = euclidean_distances(dfou, dfou)\n",
    "dkar_matrix = euclidean_distances(dkar, dkar)\n",
    "dist_matrixes = np.asarray([dfac_matrix, dfou_matrix, dkar_matrix])"
   ]
  },
  {
   "cell_type": "code",
   "execution_count": null,
   "metadata": {
    "collapsed": true
   },
   "outputs": [],
   "source": [
    "Segundo a documentaçao do scikit-learn, em algumas situacoes, por questoes de precisao, a matriz pode nao ser\n",
    "exatamente simetrica. Portanto, estou checando se cada matriz gerada e simetrica dentro de uma tolerancia de erro\n",
    "de 1e-8."
   ]
  },
  {
   "cell_type": "code",
   "execution_count": 5,
   "metadata": {
    "collapsed": false
   },
   "outputs": [
    {
     "name": "stdout",
     "output_type": "stream",
     "text": [
      "True\n",
      "True\n",
      "True\n"
     ]
    }
   ],
   "source": [
    "import numpy as np\n",
    "\n",
    "print(np.allclose(dfac_matrix, dfac_matrix.T, atol=1e-8))\n",
    "print(np.allclose(dfou_matrix, dfou_matrix.T, atol=1e-8))\n",
    "print(np.allclose(dkar_matrix, dkar_matrix.T, atol=1e-8))"
   ]
  },
  {
   "cell_type": "code",
   "execution_count": null,
   "metadata": {
    "collapsed": true
   },
   "outputs": [],
   "source": [
    "As matrizes geradas sao simetricas."
   ]
  },
  {
   "cell_type": "code",
   "execution_count": null,
   "metadata": {
    "collapsed": true
   },
   "outputs": [],
   "source": [
    "Inicializando agora as variaveis/parametros do algoritmo. Assumindo versao MFCMdd-RWG-S do algoritmo, onde os pesos\n",
    "de cada matriz de dissimilaridade devem somar 1."
   ]
  },
  {
   "cell_type": "code",
   "execution_count": 86,
   "metadata": {
    "collapsed": false
   },
   "outputs": [],
   "source": [
    "# PARAMETROS\n",
    "# Numero de clusters\n",
    "K = 10\n",
    "# Parametro m\n",
    "m = 1.6\n",
    "# Parametro s\n",
    "s = 1\n",
    "# Parametro q\n",
    "q = 3\n",
    "# Numero fixo de iteracoes (retira a necessidade da checagem de estagnacao do algoritmo)\n",
    "T = 100\n",
    "\n",
    "# VARIAVEIS\n",
    "# Peso de relevancia para cada view - MFCMdd-RWG-S\n",
    "lambdas = np.asarray([1.0] * len(dist_matrixes))\n",
    "# Prototipos - Prototipos sao representados por indices (numero da linha nas matrizes de dissimilaridade)\n",
    "prototypes = []\n",
    "for i in range(0, K):\n",
    "    prototypes.append(np.random.randint(len(dfac_matrix), size=q))\n",
    "prototypes = np.asarray(prototypes)"
   ]
  },
  {
   "cell_type": "code",
   "execution_count": null,
   "metadata": {
    "collapsed": false
   },
   "outputs": [],
   "source": [
    "Implementando a funcao para calcular o grau de pertinencia de um elemento i (element_index) para o cluster k\n",
    "(cluster_index)."
   ]
  },
  {
   "cell_type": "code",
   "execution_count": 57,
   "metadata": {
    "collapsed": true
   },
   "outputs": [],
   "source": [
    "def membership_degree(element_index, cluster_index, lambdas, prototypes, dist_matrixes, s, m):\n",
    "    final_sum = 0\n",
    "    \n",
    "    numerator = 0\n",
    "    for j, lambda_v in enumerate(lambdas):\n",
    "        distances_sum = 0\n",
    "        distance_matrix = dist_matrixes[j]\n",
    "        for prot_element_index in prototypes[cluster_index]:\n",
    "            distances_sum += distance_matrix[element_index][prot_element_index]\n",
    "        numerator += pow(lambda_v, s) * distances_sum\n",
    "    \n",
    "    for h, prototype in enumerate(prototypes):        \n",
    "        denominator = 0\n",
    "        for j, lambda_v in enumerate(lambdas):\n",
    "            distances_sum = 0\n",
    "            distance_matrix = dist_matrixes[j]\n",
    "            for prot_element_index in prototype:\n",
    "                distances_sum += distance_matrix[element_index][prot_element_index]\n",
    "            denominator += pow(lambda_v, s) * distances_sum\n",
    "        final_sum += pow(numerator / denominator, 1.0 / (m - 1))\n",
    "    \n",
    "    return pow(final_sum, -1)"
   ]
  },
  {
   "cell_type": "code",
   "execution_count": null,
   "metadata": {
    "collapsed": true
   },
   "outputs": [],
   "source": [
    "Implementando funçao que atualiza os graus de pertinencia de cada elemento para cada cluster fuzzy."
   ]
  },
  {
   "cell_type": "code",
   "execution_count": 58,
   "metadata": {
    "collapsed": false
   },
   "outputs": [],
   "source": [
    "def update_membership_degrees(lambdas, prototypes, dist_matrixes, s, m):\n",
    "    membership_degrees = []\n",
    "    for i in range(0, len(dist_matrixes[0])):\n",
    "        new_line = []\n",
    "        for k in range(0, len(prototypes)):\n",
    "            new_line.append(membership_degree(i, k, lambdas, prototypes, dist_matrixes, s, m))\n",
    "        new_line = np.asarray(new_line)\n",
    "        membership_degrees.append(new_line)\n",
    "    return np.asarray(membership_degrees)"
   ]
  },
  {
   "cell_type": "code",
   "execution_count": null,
   "metadata": {
    "collapsed": true
   },
   "outputs": [],
   "source": [
    "Implementando funcao que calcula a adequaçao do agrupamento (funcao objetivo que e minimizada)."
   ]
  },
  {
   "cell_type": "code",
   "execution_count": 59,
   "metadata": {
    "collapsed": true
   },
   "outputs": [],
   "source": [
    "def calculate_adequacy_criterion(membership_degrees, lambdas, prototypes, dist_matrixes, s, m):\n",
    "    final_sum = 0\n",
    "    for k, prototype in enumerate(prototypes):\n",
    "        sum2 = 0\n",
    "        for i, membership_degree in enumerate(membership_degrees):\n",
    "            sum1 = 0\n",
    "            for j, lambda_v in enumerate(lambdas):\n",
    "                distances_sum = 0\n",
    "                distance_matrix = dist_matrixes[j]\n",
    "                for prot_element_index in prototype:\n",
    "                    distances_sum += distance_matrix[i][prot_element_index]\n",
    "                sum1 += pow(lambda_v, s) * distances_sum\n",
    "            sum2 += pow(membership_degree[k], m) * sum1\n",
    "        final_sum += sum2\n",
    "    return final_sum"
   ]
  },
  {
   "cell_type": "code",
   "execution_count": null,
   "metadata": {
    "collapsed": true
   },
   "outputs": [],
   "source": [
    "Inicializando matriz de graus de pertinencia de cada elemento para cada cluster com zeros e calculando valores\n",
    "iniciais."
   ]
  },
  {
   "cell_type": "code",
   "execution_count": 87,
   "metadata": {
    "collapsed": false
   },
   "outputs": [],
   "source": [
    "membership_degrees_matrix = update_membership_degrees(lambdas, prototypes, dist_matrixes, s, m)"
   ]
  },
  {
   "cell_type": "code",
   "execution_count": null,
   "metadata": {
    "collapsed": true
   },
   "outputs": [],
   "source": [
    "Visualizando a matriz de graus de pertinencia de cada elemento a cada cluster em um heatmap. Abaixo do heatmap\n",
    "fuzzy, encontra-se um heatmap exibindo uma visualizaçao dos mesmos dados em hard clustering, onde o grau de\n",
    "pertinencia mais alto de cada elemento na matriz de graus de pertinencia foi considerado o indicador do cluster\n",
    "ao qual o elemento pertence. Branco significa pertencimento, preto significa nao pertencimento."
   ]
  },
  {
   "cell_type": "code",
   "execution_count": 88,
   "metadata": {
    "collapsed": false,
    "scrolled": true
   },
   "outputs": [
    {
     "name": "stdout",
     "output_type": "stream",
     "text": [
      "[[ 0.12143329  0.0821186   0.09055965 ...,  0.08949267  0.13724854\n",
      "   0.17454518]\n",
      " [ 0.11667053  0.08024184  0.09051081 ...,  0.08825093  0.14353477\n",
      "   0.16730295]\n",
      " [ 0.12414316  0.0831265   0.08810776 ...,  0.09071355  0.13828653\n",
      "   0.17334638]\n",
      " ..., \n",
      " [ 0.10077664  0.07015105  0.15897889 ...,  0.10310359  0.08619051\n",
      "   0.15179429]\n",
      " [ 0.09457871  0.07229436  0.14221325 ...,  0.09431547  0.09937648\n",
      "   0.1449295 ]\n",
      " [ 0.08778578  0.06690199  0.1921013  ...,  0.10820783  0.08085098\n",
      "   0.11374067]]\n"
     ]
    },
    {
     "data": {
      "image/png": "[encoded data removed]",
      "text/plain": [
       "<matplotlib.figure.Figure at 0x7f14c45c8eb8>"
      ]
     },
     "metadata": {},
     "output_type": "display_data"
    },
    {
     "data": {
      "image/png": "[encoded data removed]",
      "text/plain": [
       "<matplotlib.figure.Figure at 0x7f14c46468d0>"
      ]
     },
     "metadata": {},
     "output_type": "display_data"
    }
   ],
   "source": [
    "import matplotlib.pyplot as plt\n",
    "import matplotlib as mpl\n",
    "\n",
    "print(membership_degrees_matrix)\n",
    "plt.imshow(membership_degrees_matrix, cmap='hot', interpolation='nearest', aspect='auto',)\n",
    "plt.ylabel('Elements')\n",
    "plt.xlabel('Clusters')\n",
    "plt.title(\"Fuzzy Clustering\")\n",
    "plt.colorbar()\n",
    "plt.show()\n",
    "\n",
    "hard_clustering_matrix = np.zeros_like(membership_degrees_matrix)\n",
    "hard_clustering_matrix[np.arange(len(membership_degrees_matrix)), membership_degrees_matrix.argmax(1)] = 1\n",
    "plt.imshow(hard_clustering_matrix, cmap=mpl.colors.ListedColormap(['k', 'w']), interpolation='nearest', aspect='auto')\n",
    "plt.ylabel('Elements')\n",
    "plt.xlabel('Clusters')\n",
    "plt.title('Hard Clustering')\n",
    "plt.colorbar()\n",
    "plt.show()"
   ]
  },
  {
   "cell_type": "code",
   "execution_count": null,
   "metadata": {
    "collapsed": false
   },
   "outputs": [],
   "source": [
    "Checando se a soma dos graus de pertinencia de cada individuo e 1 com tolerancia de 1e-8 de diferenca, dados os\n",
    "erros de arredondamento. Resultados estao coerentes com a restricao de soma."
   ]
  },
  {
   "cell_type": "code",
   "execution_count": 89,
   "metadata": {
    "collapsed": false,
    "scrolled": true
   },
   "outputs": [
    {
     "name": "stdout",
     "output_type": "stream",
     "text": [
      "True\n"
     ]
    }
   ],
   "source": [
    "print(np.allclose(sum(membership_degrees_matrix.T), np.array([[1] * len(membership_degrees_matrix)]), atol=1e-8))"
   ]
  },
  {
   "cell_type": "code",
   "execution_count": null,
   "metadata": {
    "collapsed": false
   },
   "outputs": [],
   "source": [
    "Calculando o valor da funcao objetivo a ser minimizada."
   ]
  },
  {
   "cell_type": "code",
   "execution_count": 90,
   "metadata": {
    "collapsed": false
   },
   "outputs": [
    {
     "name": "stdout",
     "output_type": "stream",
     "text": [
      "2113531.24339\n"
     ]
    }
   ],
   "source": [
    "J = calculate_adequacy_criterion(membership_degrees_matrix, lambdas, prototypes, dist_matrixes, s, m)\n",
    "print(J)"
   ]
  },
  {
   "cell_type": "code",
   "execution_count": null,
   "metadata": {
    "collapsed": true
   },
   "outputs": [],
   "source": [
    "A partir daqui, 3 passos serao intercalados ate um dado numero da iteracoes ser atingido: Definicao dos melhores\n",
    "prototipos, calculo dos pesos das matrizes de dissimilaridade e calculo da matriz dos graus de pertinencia. A\n",
    "ultima funcao ja esta implementada, restando a implementacao das duas primeiras."
   ]
  },
  {
   "cell_type": "code",
   "execution_count": null,
   "metadata": {
    "collapsed": true
   },
   "outputs": [],
   "source": [
    "Implementando funcao de definicao dos melhores prototipos."
   ]
  },
  {
   "cell_type": "code",
   "execution_count": 64,
   "metadata": {
    "collapsed": true
   },
   "outputs": [],
   "source": [
    "def define_prototypes(membership_degrees_matrix, lambdas, dist_matrixes, s, m):\n",
    "    prototypes = []\n",
    "    for k in range(0, K):\n",
    "        new_prototype = []\n",
    "        for q_counter in range(0, q):\n",
    "            min_value = float(\"inf\")\n",
    "            min_index = -1\n",
    "            for h in range(0, len(membership_degrees_matrix)):\n",
    "                total_sum = 0\n",
    "                for i in range(0, len(membership_degrees_matrix)):\n",
    "                    distances_sum = 0\n",
    "                    for j, lambda_v in enumerate(lambdas):\n",
    "                        distances_sum += pow(lambda_v, s) * dist_matrixes[j][i][h]\n",
    "                    total_sum += pow(membership_degrees_matrix[i][k], m) * distances_sum\n",
    "                if total_sum < min_value and h not in new_prototype:\n",
    "                    min_value = total_sum\n",
    "                    min_index = h\n",
    "            new_prototype.append(min_index)\n",
    "        new_prototype = np.asarray(new_prototype)\n",
    "        prototypes.append(new_prototype)\n",
    "    return np.asarray(prototypes)"
   ]
  },
  {
   "cell_type": "code",
   "execution_count": null,
   "metadata": {
    "collapsed": true
   },
   "outputs": [],
   "source": [
    "Testando rapidamente a funcao de definicao de prototipos."
   ]
  },
  {
   "cell_type": "code",
   "execution_count": 28,
   "metadata": {
    "collapsed": false
   },
   "outputs": [
    {
     "name": "stdout",
     "output_type": "stream",
     "text": [
      "[[ 692  554 1025]\n",
      " [ 692 1773 1784]\n",
      " [ 692  566  685]\n",
      " [ 554  692  436]\n",
      " [ 566  692 1910]\n",
      " [ 692  566  460]\n",
      " [ 692  554 1784]\n",
      " [ 554  692 1773]\n",
      " [ 692  566  600]\n",
      " [ 692 1773  554]]\n"
     ]
    }
   ],
   "source": [
    "new_prototypes = define_prototypes(membership_degrees_matrix, lambdas, dist_matrixes, s, m)\n",
    "print(new_prototypes)"
   ]
  },
  {
   "cell_type": "code",
   "execution_count": null,
   "metadata": {
    "collapsed": true
   },
   "outputs": [],
   "source": [
    "Implementando funcao de update dos lambdas."
   ]
  },
  {
   "cell_type": "code",
   "execution_count": 65,
   "metadata": {
    "collapsed": true
   },
   "outputs": [],
   "source": [
    "def calculate_lambda(matrix_index, membership_degrees_matrix, prototypes, dist_matrixes, s, m):\n",
    "    denominator = 0\n",
    "    for k in range(0, K):\n",
    "        sum1 = 0\n",
    "        for i in range(0, len(membership_degrees_matrix)):\n",
    "            distances_sum = 0\n",
    "            distance_matrix = dist_matrixes[matrix_index]\n",
    "            for prot_element_index in prototypes[k]:\n",
    "                distances_sum += distance_matrix[i][prot_element_index]\n",
    "            sum1 += pow(membership_degrees_matrix[i][matrix_index], m) * distances_sum\n",
    "        denominator += sum1\n",
    "    \n",
    "    produtorio = 1    \n",
    "    for h in range(0, len(dist_matrixes)):\n",
    "        sum_ = 0\n",
    "        for k in range(0, K):\n",
    "            for i in range(0, len(membership_degrees_matrix)):\n",
    "                distances_sum = 0\n",
    "                distance_matrix = dist_matrixes[h]\n",
    "                for prot_element_index in prototypes[k]:\n",
    "                    distances_sum += distance_matrix[i][prot_element_index]\n",
    "                sum_ += pow(membership_degrees_matrix[i][matrix_index], m) * distances_sum\n",
    "        produtorio *= pow(sum_, 1.0 / len(dist_matrixes))\n",
    "    \n",
    "    return produtorio / denominator"
   ]
  },
  {
   "cell_type": "code",
   "execution_count": 66,
   "metadata": {
    "collapsed": true
   },
   "outputs": [],
   "source": [
    "def update_lambdas(membership_degrees, prototypes, dist_matrixes, s, m):\n",
    "    new_lambdas = []\n",
    "    for j in range(0, len(lambdas)):\n",
    "        new_lambdas.append(calculate_lambda(j, membership_degrees, prototypes, dist_matrixes, s, m))\n",
    "    return np.asarray(new_lambdas)"
   ]
  },
  {
   "cell_type": "code",
   "execution_count": null,
   "metadata": {
    "collapsed": true
   },
   "outputs": [],
   "source": [
    "Testando rapidamente a funcao de atualizacao dos lambdas e checando se o seu produto é aproximadamente 1."
   ]
  },
  {
   "cell_type": "code",
   "execution_count": 33,
   "metadata": {
    "collapsed": false
   },
   "outputs": [
    {
     "name": "stdout",
     "output_type": "stream",
     "text": [
      "1.00312001403\n"
     ]
    }
   ],
   "source": [
    "new_lambdas = update_lambdas(membership_degrees_matrix, prototypes, dist_matrixes, s, m)\n",
    "print(np.prod(new_lambdas))"
   ]
  },
  {
   "cell_type": "code",
   "execution_count": null,
   "metadata": {
    "collapsed": true
   },
   "outputs": [],
   "source": [
    "Colocaremos agora as operacoes executando de maneira intercalada dentro de iteracoes. Lembrando que, de acordo\n",
    "com a especificacao do projeto, terei que executar fixas 100 iteracoes, e nao parar quando o erro atingir\n",
    "um determinado valor. Estou fazendo 1/5 da execucao por vez para ter checkpoints (isso vai demorar mto)."
   ]
  },
  {
   "cell_type": "code",
   "execution_count": 91,
   "metadata": {
    "collapsed": true
   },
   "outputs": [],
   "source": [
    "J_values_over_time = []\n",
    "lambdas_over_time = []\n",
    "membership_degrees_matrix_over_time = []"
   ]
  },
  {
   "cell_type": "code",
   "execution_count": null,
   "metadata": {
    "collapsed": false
   },
   "outputs": [
    {
     "name": "stdout",
     "output_type": "stream",
     "text": [
      "Iteracao: 0 - Adequacao: 2113531.24339 - Produto lambdas: 1.00312001403\n"
     ]
    }
   ],
   "source": [
    "for t in range(0, int(T / 5)):\n",
    "    print('Iteracao: ' + str(t) + ' - Adequacao: ' + str(J) + ' - Produto lambdas: ' + str(np.prod(new_lambdas)))\n",
    "    prototypes = define_prototypes(membership_degrees_matrix, lambdas, dist_matrixes, s, m)\n",
    "    lambdas = update_lambdas(membership_degrees_matrix, prototypes, dist_matrixes, s, m)\n",
    "    membership_degrees_matrix = update_membership_degrees(lambdas, prototypes, dist_matrixes, s, m)\n",
    "    J = calculate_adequacy_criterion(membership_degrees_matrix, lambdas, prototypes, dist_matrixes, s, m)\n",
    "    J_values_over_time.append(J)\n",
    "    lambdas_over_time.append(lambdas)\n",
    "    membership_degrees_matrix_over_time.append(membership_degrees_matrix)"
   ]
  }
 ],
 "metadata": {
  "anaconda-cloud": {},
  "kernelspec": {
   "display_name": "Python [conda root]",
   "language": "python",
   "name": "conda-root-py"
  },
  "language_info": {
   "codemirror_mode": {
    "name": "ipython",
    "version": 3
   },
   "file_extension": ".py",
   "mimetype": "text/x-python",
   "name": "python",
   "nbconvert_exporter": "python",
   "pygments_lexer": "ipython3",
   "version": "3.5.2"
  }
 },
 "nbformat": 4,
 "nbformat_minor": 1
}
