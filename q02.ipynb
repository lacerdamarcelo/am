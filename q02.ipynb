{
 "cells": [
  {
   "cell_type": "code",
   "execution_count": 117,
   "metadata": {
    "collapsed": false
   },
   "outputs": [
    {
     "data": {
      "text/plain": [
       "array([ 0.,  0.,  1.,  1.,  1.])"
      ]
     },
     "execution_count": 117,
     "metadata": {},
     "output_type": "execute_result"
    }
   ],
   "source": [
    "\n",
    "import scipy as sp\n",
    "from scipy.spatial.distance import squareform, pdist\n",
    "\n",
    "import numpy as np\n",
    "import pandas as pd\n",
    "import matplotlib.pyplot as plt\n",
    "from sklearn.utils import shuffle\n",
    "from sklearn.model_selection import StratifiedKFold\n",
    "\n",
    "# para testes\n",
    "from sklearn.neighbors import KNeighborsClassifier\n",
    "from sklearn.metrics import zero_one_loss, accuracy_score\n",
    "\n",
    "#graficos\n",
    "import matplotlib\n",
    "import matplotlib.pyplot as plt\n",
    "%matplotlib inline\n",
    "matplotlib.style.use('ggplot')\n",
    "\n",
    "#grafico distribuicao\n",
    "import scipy.stats as stats\n",
    "import pylab as pl\n",
    "\n",
    "\n",
    "#importação dos dados\n",
    "dfac = pd.read_csv('dados/mfeat-fac', delim_whitespace=True, header=None)\n",
    "dfou = pd.read_csv('dados/mfeat-fou', delim_whitespace=True, header=None)\n",
    "dkar = pd.read_csv('dados/mfeat-kar', delim_whitespace=True, header=None)\n",
    "\n",
    "#cria array com 2000 elementos, onde os 200 primmeiros elementos possuem a classe 0, os proximos 200\n",
    "#elementos possuem a classe 1, ...\n",
    "classes = np.array([])\n",
    "for i in range (2000):\n",
    "    classes = np.append(classes,int(i/200))\n",
    "classes[198:203]"
   ]
  },
  {
   "cell_type": "code",
   "execution_count": 118,
   "metadata": {
    "collapsed": true
   },
   "outputs": [],
   "source": [
    "# CLASSIFICADOR\n",
    "\n",
    "def classificador(dadosTreino, classesTreino, dadosTeste, classesTeste):\n",
    "    # teste com KNN (apenas teste - substituir pelo classificador solicitaco na questao)        \n",
    "        \n",
    "    # Constrói um classificador knn e treina ele com dados da visão 2    \n",
    "    clf_knn2 = KNeighborsClassifier(n_neighbors=5) # cria o classificador\n",
    "    clf_knn2.fit(dadosTreino, classesTreino)       # treina\n",
    "    knn2_pred = clf_knn2.predict(dadosTeste)       # faz o teste\n",
    "\n",
    "    # print(str(knn2_pred)) # predição\n",
    "    \n",
    "    #err_knn2 = zero_one_loss(classesTeste, knn2_pred)    # computa o resultado - taxa de erro\n",
    "    err_knn2 = accuracy_score(classesTeste, knn2_pred)    # computa o resultado - taxa de acerto\n",
    "\n",
    "    return err_knn2\n",
    "    "
   ]
  },
  {
   "cell_type": "code",
   "execution_count": 126,
   "metadata": {
    "collapsed": false
   },
   "outputs": [],
   "source": [
    "# embaralha os dados\n",
    "# encontra 10 folds\n",
    "# separa treina, classifica e encontra a taxa de acerto \n",
    "def core(matrizDados, classes):\n",
    "    saida = []\n",
    "\n",
    "    # 30 rodadas \n",
    "    for i in range(30):\n",
    "      \n",
    "        # embaralha a matriz de dados e as classes ao mesmo tempo\n",
    "        dados, classesEmbaralhadas = shuffle(matrizDados, classes, random_state=i)\n",
    "\n",
    "        # 10 folds\n",
    "        skf = StratifiedKFold(10)\n",
    "\n",
    "        for indicesTreino, indicesTeste in skf.split(dados, classesEmbaralhadas):\n",
    "            dadosTreino = dados.loc[indicesTreino]\n",
    "            dadosTeste  = dados.loc[indicesTeste]        \n",
    "            classesTreino = classes[indicesTreino]\n",
    "            classesTeste  = classes[indicesTeste] \n",
    "\n",
    "            \n",
    "            # CLASSIFICAÇÃO\n",
    "            # teste com KNN (apenas teste - substituir pelo classificador solicitaco na questao)        \n",
    "            # Constrói um classificador knn e treina ele com dados da visão 2\n",
    "            ##clf_knn2 = KNeighborsClassifier(n_neighbors=5) # cria o classificador\n",
    "            ##clf_knn2.fit(dadosTreino, classesTreino)       # treina\n",
    "            ##knn2_pred = clf_knn2.predict(dadosTeste)       # faz o teste\n",
    "            #err_knn2 = zero_one_loss(classesTeste, knn2_pred)    # computa o resultado - taxa de erro\n",
    "            ## err_knn2 = accuracy_score(classesTeste, knn2_pred)    # computa o resultado - taxa de acerto\n",
    "            ##saida.append(err_knn2)\n",
    "            \n",
    "            saida.append(classificador(dadosTreino, classesTreino, dadosTeste, classesTeste))\n",
    "\n",
    "            \n",
    "        # ESTIMATIVA PONTUAL\n",
    "        media = np.mean(saida)\n",
    "        \n",
    "    return saida, media"
   ]
  },
  {
   "cell_type": "code",
   "execution_count": 127,
   "metadata": {
    "collapsed": true
   },
   "outputs": [],
   "source": [
    "def graficoDistribuicao(dados):\n",
    "    fit = stats.norm.pdf(dados, np.mean(dados), np.std(dados))\n",
    "    pl.plot(dados, fit, '-o')\n",
    "    pl.hist(dados, normed=True)\n",
    "    pl.show()"
   ]
  },
  {
   "cell_type": "code",
   "execution_count": 130,
   "metadata": {
    "collapsed": false
   },
   "outputs": [],
   "source": [
    "# Classifica e mostra o resultado\n",
    "def fazTudo(nomeDados, dados, classes):\n",
    "    resultado, estimativaPontual = core(dados, classes)\n",
    "    print(\"média dos \" + str(len(resultado)) + \" resultados de \" + nomeDados + \": \" +  str(estimativaPontual))\n",
    "    resultadoOrdenado = np.sort(resultado)\n",
    "    frame = pd.DataFrame(resultadoOrdenado)\n",
    "    frame.plot(figsize=(12,5))\n",
    "    return resultadoOrdenado\n"
   ]
  },
  {
   "cell_type": "code",
   "execution_count": null,
   "metadata": {
    "collapsed": false
   },
   "outputs": [],
   "source": [
    "\n",
    "resultado01 = fazTudo(\"DFAC\", dfac, classes)\n",
    "resultado02 = fazTudo(\"DFOU\", dfou, classes)\n",
    "resultaod03 = fazTudo(\"DKAR\", dkar, classes)\n"
   ]
  },
  {
   "cell_type": "code",
   "execution_count": null,
   "metadata": {
    "collapsed": true
   },
   "outputs": [],
   "source": [
    "## Resultado 01\n",
    "frame = pd.DataFrame(resultadoOrdenado)\n",
    "frame.plot(figsize=(12,5))\n"
   ]
  },
  {
   "cell_type": "code",
   "execution_count": null,
   "metadata": {
    "collapsed": true
   },
   "outputs": [],
   "source": [
    "graficoDistribuicao(resultado01)\n"
   ]
  }
 ],
 "metadata": {
  "anaconda-cloud": {},
  "kernelspec": {
   "display_name": "Python [default]",
   "language": "python",
   "name": "python3"
  },
  "language_info": {
   "codemirror_mode": {
    "name": "ipython",
    "version": 3
   },
   "file_extension": ".py",
   "mimetype": "text/x-python",
   "name": "python",
   "nbconvert_exporter": "python",
   "pygments_lexer": "ipython3",
   "version": "3.5.2"
  }
 },
 "nbformat": 4,
 "nbformat_minor": 1
}
